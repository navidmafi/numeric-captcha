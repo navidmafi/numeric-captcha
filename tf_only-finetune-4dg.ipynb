{
 "cells": [
  {
   "cell_type": "code",
   "execution_count": 1,
   "metadata": {},
   "outputs": [
    {
     "name": "stderr",
     "output_type": "stream",
     "text": [
      "WARNING: All log messages before absl::InitializeLog() is called are written to STDERR\n",
      "I0000 00:00:1726143131.102510   11834 cuda_executor.cc:1015] successful NUMA node read from SysFS had negative value (-1), but there must be at least one NUMA node, so returning NUMA node zero. See more at https://github.com/torvalds/linux/blob/v6.0/Documentation/ABI/testing/sysfs-bus-pci#L344-L355\n",
      "I0000 00:00:1726143131.137789   11834 cuda_executor.cc:1015] successful NUMA node read from SysFS had negative value (-1), but there must be at least one NUMA node, so returning NUMA node zero. See more at https://github.com/torvalds/linux/blob/v6.0/Documentation/ABI/testing/sysfs-bus-pci#L344-L355\n",
      "I0000 00:00:1726143131.139429   11834 cuda_executor.cc:1015] successful NUMA node read from SysFS had negative value (-1), but there must be at least one NUMA node, so returning NUMA node zero. See more at https://github.com/torvalds/linux/blob/v6.0/Documentation/ABI/testing/sysfs-bus-pci#L344-L355\n"
     ]
    },
    {
     "name": "stdout",
     "output_type": "stream",
     "text": [
      "Num GPUs Available:  1\n"
     ]
    }
   ],
   "source": [
    "import os, math,time\n",
    "import matplotlib.pyplot as plt\n",
    "import numpy as np\n",
    "\n",
    "from silence_tensorflow import silence_tensorflow\n",
    "silence_tensorflow(\"ERROR\")\n",
    "import tensorflow as tf\n",
    "import keras\n",
    "\n",
    "gpuDevices = tf.config.list_physical_devices('GPU')\n",
    "print(\"Num GPUs Available: \", len(gpuDevices))\n",
    "tf.config.experimental.set_memory_growth(gpuDevices[0], True)\n",
    "tf.config.optimizer.set_experimental_options({'layout_optimizer': False})\n",
    "\n",
    "\n",
    "import tensorflow_model_optimization as tfmot"
   ]
  },
  {
   "cell_type": "code",
   "execution_count": 2,
   "metadata": {},
   "outputs": [
    {
     "name": "stderr",
     "output_type": "stream",
     "text": [
      "I0000 00:00:1726143131.552968   11834 cuda_executor.cc:1015] successful NUMA node read from SysFS had negative value (-1), but there must be at least one NUMA node, so returning NUMA node zero. See more at https://github.com/torvalds/linux/blob/v6.0/Documentation/ABI/testing/sysfs-bus-pci#L344-L355\n",
      "I0000 00:00:1726143131.554394   11834 cuda_executor.cc:1015] successful NUMA node read from SysFS had negative value (-1), but there must be at least one NUMA node, so returning NUMA node zero. See more at https://github.com/torvalds/linux/blob/v6.0/Documentation/ABI/testing/sysfs-bus-pci#L344-L355\n",
      "I0000 00:00:1726143131.555626   11834 cuda_executor.cc:1015] successful NUMA node read from SysFS had negative value (-1), but there must be at least one NUMA node, so returning NUMA node zero. See more at https://github.com/torvalds/linux/blob/v6.0/Documentation/ABI/testing/sysfs-bus-pci#L344-L355\n",
      "I0000 00:00:1726143131.668399   11834 cuda_executor.cc:1015] successful NUMA node read from SysFS had negative value (-1), but there must be at least one NUMA node, so returning NUMA node zero. See more at https://github.com/torvalds/linux/blob/v6.0/Documentation/ABI/testing/sysfs-bus-pci#L344-L355\n",
      "I0000 00:00:1726143131.669795   11834 cuda_executor.cc:1015] successful NUMA node read from SysFS had negative value (-1), but there must be at least one NUMA node, so returning NUMA node zero. See more at https://github.com/torvalds/linux/blob/v6.0/Documentation/ABI/testing/sysfs-bus-pci#L344-L355\n",
      "I0000 00:00:1726143131.671012   11834 cuda_executor.cc:1015] successful NUMA node read from SysFS had negative value (-1), but there must be at least one NUMA node, so returning NUMA node zero. See more at https://github.com/torvalds/linux/blob/v6.0/Documentation/ABI/testing/sysfs-bus-pci#L344-L355\n"
     ]
    }
   ],
   "source": [
    "batch_size = 32\n",
    "image_shape = (40,160,1)\n",
    "code_length = 4\n",
    "lr=0.01\n",
    "test_split = 0.2\n",
    "validation_split=0.1\n",
    "charset_length = 10\n",
    "shuff_size =20000\n",
    "epochs=60\n",
    "\n",
    "loss_fn = keras.losses.CategoricalCrossentropy()\n",
    "optimizer = keras.optimizers.Adam()\n",
    "train_loss = keras.metrics.Mean(name='train_loss')\n",
    "train_acc_metric = keras.metrics.CategoricalAccuracy(name='train_accuracy')"
   ]
  },
  {
   "cell_type": "code",
   "execution_count": 3,
   "metadata": {},
   "outputs": [],
   "source": [
    "def get_shape(ds:tf.data.Dataset):\n",
    "    for image, label in ds.unbatch().take(1): # type: ignore\n",
    "        tf.print(\"image:\")\n",
    "        tf.print(tf.shape(image))\n",
    "        tf.print(image.dtype)\n",
    "        tf.print(\"label:\")\n",
    "        tf.print(tf.shape(label))\n",
    "        tf.print(label.dtype)\n",
    "        # print(\"Single label:\", label.numpy())\n",
    "\n",
    "def decode_one_hot(one_hot_label: tf.Tensor) ->  tf.Tensor:\n",
    "    one_hot_reshaped = tf.reshape(one_hot_label, [code_length, charset_length])\n",
    "    digits = tf.argmax(one_hot_reshaped, axis=-1)\n",
    "    return tf.strings.reduce_join(tf.strings.as_string(digits), axis=0)\n",
    "    \n",
    "\n",
    "def decode_one_hot_2dim(one_hot_label : tf.Tensor) ->  tf.RaggedTensor:\n",
    "    one_hot_reshaped = tf.reshape(one_hot_label, [code_length, charset_length])\n",
    "    return tf.argmax(one_hot_reshaped, axis=1)\n",
    "\n",
    "\n",
    "def viz_ds(ds:tf.data.Dataset, count=6):\n",
    "    plt.figure()\n",
    "    ds= ds.unbatch().take(count)\n",
    "    dsit = iter(ds)\n",
    "    for i in range(count):\n",
    "        image, label  = next(dsit)  # type: ignore\n",
    "        ax = plt.subplot(3, 3, i + 1)\n",
    "        plt.imshow(image.numpy().astype(\"uint8\"),cmap=\"gray\")\n",
    "        if (len(label.numpy().shape) == 2):\n",
    "             plt.title(np.array2string(decode_one_hot_2dim(label).numpy()))\n",
    "        else:\n",
    "            plt.title(label.numpy())\n",
    "            \n",
    "        plt.tight_layout()\n",
    "        plt.axis(\"off\")\n",
    "\n",
    "def get_label(file_path: tf.Tensor):\n",
    "  parts = tf.strings.split(file_path, os.path.sep)\n",
    "  return tf.strings.split(parts[-1], \".\")[0]\n",
    "\n",
    "def label_to_one_hot_2d(label:tf.Tensor) -> tf.Tensor:\n",
    "    digits = tf.strings.to_number(tf.strings.unicode_split(label, 'UTF-8'), out_type=tf.int32)\n",
    "    one_hot_digits = tf.one_hot(digits, depth=10)\n",
    "    return one_hot_digits\n",
    "\n",
    "def decode_img(img: tf.Tensor) -> tf.Tensor:\n",
    "  return tf.io.decode_image(img,channels=1, dtype=tf.float32, expand_animations = False) # type: ignore\n",
    "\n",
    "def preprocess_image(image:tf.Tensor) -> tf.Tensor:\n",
    "  # tf.print(tf.shape(image))\n",
    "  image = tf.image.resize(image, image_shape[:2])\n",
    "  image = tf.image.per_image_standardization(image)\n",
    "  return image\n",
    "\n",
    "def preprocess_label(label : tf.Tensor) -> tf.Tensor:\n",
    "  return label_to_one_hot_2d(label)\n",
    "\n",
    "\n",
    "def configure_for_performance(ds:tf.data.Dataset) -> tf.data.Dataset:\n",
    "  ds = ds.cache()\n",
    "  ds = ds.shuffle(buffer_size=shuff_size)\n",
    "  ds = ds.batch(batch_size,drop_remainder=True)\n",
    "  ds = ds.prefetch(buffer_size=tf.data.AUTOTUNE)\n",
    "  return ds\n",
    "\n",
    "def process_path(file_path:tf.Tensor) -> tuple[tf.Tensor,tf.Tensor]:\n",
    "  label = get_label(file_path)\n",
    "  # tf.print(label)\n",
    "  img = tf.io.read_file(file_path)\n",
    "  img = decode_img(img)\n",
    "  return preprocess_image(img), preprocess_label(label)\n",
    "\n",
    "\n",
    "\n",
    "def create_dataset(folderName: str) -> tf.data.Dataset :\n",
    "    ds = tf.data.Dataset.list_files(f\"{folderName}/*.jpg\", shuffle=False)\n",
    "    \n",
    "    ds = ds.map(process_path, num_parallel_calls=tf.data.AUTOTUNE)\n",
    "    ds = configure_for_performance(ds)\n",
    "    print(ds.cardinality().numpy())\n",
    "    viz_ds(ds)\n",
    "    return ds"
   ]
  },
  {
   "cell_type": "code",
   "execution_count": 4,
   "metadata": {},
   "outputs": [
    {
     "name": "stdout",
     "output_type": "stream",
     "text": [
      "786\n"
     ]
    },
    {
     "data": {
      "image/png": "[encoded data removed]",
      "text/plain": [
       "<Figure size 640x480 with 6 Axes>"
      ]
     },
     "metadata": {},
     "output_type": "display_data"
    }
   ],
   "source": [
    "main_ds = create_dataset(\"/mnt/Data/ML/datasets/captchas-austria\")\n",
    "ds_size = main_ds.cardinality().numpy()\n",
    "train_ds = main_ds.take(math.floor(ds_size * (1-test_split))) \n",
    "test_ds = main_ds.skip(math.floor(ds_size * (1-test_split)))"
   ]
  },
  {
   "cell_type": "code",
   "execution_count": null,
   "metadata": {},
   "outputs": [],
   "source": [
    "loss_fn = keras.losses.CategoricalCrossentropy()\n",
    "optimizer = keras.optimizers.Adam(learning_rate=lr)\n",
    "train_loss = keras.metrics.Mean(name='train_loss')\n",
    "train_acc_metric = keras.metrics.CategoricalAccuracy(name='train_accuracy')\n",
    "\n",
    "\n",
    "def make_encoder() :\n",
    "    input_layer = keras.layers.Input(shape=image_shape)\n",
    "    x = keras.layers.Conv2D(32, (3, 3), activation='relu', padding='same')(input_layer)\n",
    "    x = keras.layers.MaxPooling2D((2, 2))(x)\n",
    "\n",
    "    x = keras.layers.Conv2D(64, (3, 3), activation='relu', padding='same')(x)\n",
    "    x = keras.layers.MaxPooling2D((2, 2))(x)\n",
    "\n",
    "    x = keras.layers.Conv2D(128, (3, 3), activation='relu', padding='same')(x)\n",
    "    x = keras.layers.MaxPooling2D((2, 2))(x)\n",
    "\n",
    "    \n",
    "    x = keras.layers.Flatten(name='flatten_after_convs')(x)\n",
    "    x = keras.layers.Dense(768, activation='relu')(x)\n",
    "    x = keras.layers.Dropout(0.5)(x)\n",
    "\n",
    "    output_layer = keras.layers.Dense(code_length * charset_length, activation='softmax')(x)\n",
    "    output_layer = keras.layers.Reshape((code_length, charset_length), name='final_reshape')(output_layer)\n",
    "    model = keras.models.Model(inputs=input_layer, outputs=output_layer)\n",
    "    \n",
    "    model.compile(optimizer=optimizer, # type: ignore\n",
    "              loss=loss_fn,\n",
    "              metrics=[train_acc_metric])\n",
    "    \n",
    "    model.summary()\n",
    "    return model\n",
    "\n",
    "model = make_encoder()"
   ]
  },
  {
   "cell_type": "code",
   "execution_count": null,
   "metadata": {},
   "outputs": [],
   "source": [
    "print(model.input_shape)\n",
    "print(model.output_shape)\n",
    "print(model.dtype)\n",
    "\n",
    "get_shape(train_ds)"
   ]
  },
  {
   "cell_type": "code",
   "execution_count": null,
   "metadata": {},
   "outputs": [],
   "source": [
    "\n",
    "# tf.config.run_functions_eagerly(False)\n",
    "# tf.debugging.set_log_device_placement(True)\n",
    "# model.fit(train_ds, epochs=30, validation_split=0.05)\n",
    "num_images = train_ds.unbatch().cardinality().numpy() * (1 - validation_split)\n",
    "print(num_images)\n",
    "end_step = np.ceil(num_images / batch_size).astype(np.int32) * epochs\n",
    "\n",
    "pruning_params = {\n",
    "      'pruning_schedule': tfmot.sparsity.keras.PolynomialDecay(\n",
    "                                initial_sparsity=0.50,\n",
    "                                final_sparsity=0.80,\n",
    "                                begin_step=0,\n",
    "                                end_step=end_step)\n",
    "}\n",
    "\n",
    "model_for_pruning = tfmot.sparsity.keras.prune_low_magnitude(model, **pruning_params)"
   ]
  },
  {
   "cell_type": "code",
   "execution_count": 24,
   "metadata": {},
   "outputs": [],
   "source": [
    "def evaluate_model_visual(model, test_dataset:tf.data.Dataset):\n",
    "    loss, accuracy = model.evaluate(test_dataset)\n",
    "    \n",
    "    print(f\"Test Loss: {loss}\")\n",
    "    print(f\"Test Accuracy: {accuracy}\")\n",
    "    for images, labels in test_dataset.take(1):\n",
    "        predictions = model.predict(images)\n",
    "        \n",
    "        plt.figure(figsize=(12, 8))  # Adjust figure size for better display\n",
    "        for i in range(len(images)):\n",
    "            true_label = labels[i].numpy()\n",
    "            pred_label = tf.nn.softmax(predictions[i]).numpy()\n",
    "            \n",
    "            # Get predicted and true label indices\n",
    "            pred_label_indices = np.argmax(pred_label, axis=-1)\n",
    "            true_label_indices = np.argmax(true_label, axis=-1)\n",
    "            \n",
    "            # Subplot with 3 images per row\n",
    "            plt.subplot(len(images) // 3 + 1, 3, i + 1)\n",
    "            plt.imshow(images[i].numpy().reshape(image_shape[:2]), cmap='gray')\n",
    "            plt.title(f\"True: {true_label_indices}, Pred: {pred_label_indices}\")\n",
    "            plt.axis('off')  # Hide axes for better visualization\n",
    "        \n",
    "        plt.tight_layout()\n",
    "        plt.show()"
   ]
  },
  {
   "cell_type": "code",
   "execution_count": null,
   "metadata": {},
   "outputs": [],
   "source": [
    "evaluate_model_visual(model, test_ds)"
   ]
  },
  {
   "cell_type": "code",
   "execution_count": 27,
   "metadata": {},
   "outputs": [],
   "source": [
    "model.save(filepath=\"mame.keras\")"
   ]
  },
  {
   "cell_type": "code",
   "execution_count": null,
   "metadata": {},
   "outputs": [],
   "source": [
    "# onnx_model, _ = tf2onnx.convert.from_keras(model, input_signature, opset=13)"
   ]
  },
  {
   "cell_type": "code",
   "execution_count": 180,
   "metadata": {},
   "outputs": [
    {
     "name": "stdout",
     "output_type": "stream",
     "text": [
      "[6 7 3 6]\n",
      "[6 7 5 6]\n",
      "[7 3 3 6]\n",
      "[7 3 6 6]\n",
      "[8 1 6 6]\n",
      "[8 1 6 3]\n",
      "Test DS Accuracy: 0.9994066455696202 with 5056 samples\n",
      "Average Inference Time: 0.004846640739715157 seconds\n"
     ]
    }
   ],
   "source": [
    "import onnxruntime as ort\n",
    "def eval_onnx(model : ort.InferenceSession, test_dataset: tf.data.Dataset):\n",
    "    \n",
    "    total_time = 0\n",
    "    correct_predictions = 0 \n",
    "    total_samples = test_dataset.cardinality().numpy() * batch_size\n",
    "\n",
    "    for batch_images, batch_labels in test_ds.as_numpy_iterator():\n",
    "        # print(batch_images.shape)\n",
    "        start_time = time.process_time()\n",
    "        outputs = ort_session.run(None, {'image': batch_images})\n",
    "        end_time = time.process_time()\n",
    "        total_time += (end_time - start_time)\n",
    "        for i in range(len(outputs[0])):\n",
    "            pred = np.argmax(outputs[0][i], axis = 1)\n",
    "            truth = np.argmax(batch_labels[i], axis = 1)\n",
    "            if (np.array_equal(pred, truth)):\n",
    "                correct_predictions+=1\n",
    "            else :\n",
    "                print(pred)\n",
    "                print(truth)\n",
    "    \n",
    "    accuracy = correct_predictions / total_samples\n",
    "    average_inference_time = total_time / total_samples\n",
    "\n",
    "    print(f\"Test DS Accuracy: {accuracy} with {total_samples} samples\",)\n",
    "    print(f\"Average Inference Time: {average_inference_time} seconds\")\n",
    "\n",
    "ort_session = ort.InferenceSession('mame.onnx')\n",
    "eval_onnx(ort_session,test_ds)"
   ]
  }
 ],
 "metadata": {
  "kernelspec": {
   "display_name": "tf312",
   "language": "python",
   "name": "python3"
  },
  "language_info": {
   "codemirror_mode": {
    "name": "ipython",
    "version": 3
   },
   "file_extension": ".py",
   "mimetype": "text/x-python",
   "name": "python",
   "nbconvert_exporter": "python",
   "pygments_lexer": "ipython3",
   "version": "3.12.5"
  }
 },
 "nbformat": 4,
 "nbformat_minor": 2
}
