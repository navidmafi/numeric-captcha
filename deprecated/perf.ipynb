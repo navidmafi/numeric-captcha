{
 "cells": [
  {
   "cell_type": "code",
   "execution_count": 18,
   "metadata": {},
   "outputs": [
    {
     "name": "stdout",
     "output_type": "stream",
     "text": [
      "Num GPUs Available:  1\n"
     ]
    }
   ],
   "source": [
    "import silence_tensorflow.auto\n",
    "import tensorflow as tf\n",
    "gpuDevices = tf.config.list_physical_devices('GPU')\n",
    "print(\"Num GPUs Available: \", len(gpuDevices))\n",
    "tf.config.experimental.set_memory_growth(gpuDevices[0], True)\n",
    "tf.config.optimizer.set_experimental_options({'layout_optimizer': False})\n",
    "\n",
    "import keras\n",
    "import random\n",
    "import PIL.Image\n",
    "import glob\n",
    "import torchshow\n",
    "import transformers\n",
    "import random\n",
    "from  IPython import display\n",
    "import time\n",
    "import datasets\n",
    "import matplotlib.pyplot as plt\n",
    "import numpy as np\n"
   ]
  },
  {
   "cell_type": "code",
   "execution_count": 12,
   "metadata": {},
   "outputs": [],
   "source": [
    "ts = lambda tensor : keras.preprocessing.image.array_to_img(tensor)\n",
    "\n",
    "def plot_n_samples(dataset, n ):\n",
    "    plt.figure(figsize=(20, 4))\n",
    "    for i in range(n):\n",
    "        assert tf.is_tensor(dataset[i]), \"This ain't a tensor\"\n",
    "        ax = plt.subplot(2, n, i + 1)\n",
    "        plt.imshow(ts(dataset[i].numpy()))\n",
    "        plt.gray()\n",
    "        ax.get_xaxis().set_visible(False)\n",
    "        ax.get_yaxis().set_visible(False)\n",
    "    plt.show()"
   ]
  },
  {
   "cell_type": "code",
   "execution_count": 8,
   "metadata": {},
   "outputs": [
    {
     "data": {
      "text/plain": [
       "8640"
      ]
     },
     "execution_count": 8,
     "metadata": {},
     "output_type": "execute_result"
    }
   ],
   "source": [
    "import gc\n",
    "gc.collect()"
   ]
  },
  {
   "cell_type": "code",
   "execution_count": 7,
   "metadata": {},
   "outputs": [],
   "source": [
    "ds = datasets.load_dataset(\"project-sloth/captcha-images\", split='train')"
   ]
  },
  {
   "cell_type": "code",
   "execution_count": 24,
   "metadata": {},
   "outputs": [],
   "source": [
    "def perf(method, *args, **kwargs):\n",
    "    start_time = time.perf_counter()\n",
    "    result = method(*args, **kwargs)\n",
    "    end_time = time.perf_counter()\n",
    "    return end_time - start_time"
   ]
  },
  {
   "cell_type": "code",
   "execution_count": 29,
   "metadata": {},
   "outputs": [],
   "source": [
    "def lambda_conversion(ds: datasets.Dataset):\n",
    "    return ds.map(lambda x: {\"image\": x[\"image\"].convert(\"L\")})\n"
   ]
  },
  {
   "cell_type": "code",
   "execution_count": 33,
   "metadata": {},
   "outputs": [],
   "source": [
    "def convert_to_grayscale(image):\n",
    "    return tf.image.rgb_to_grayscale(image)\n",
    "\n",
    "def tf_conversion(ds: datasets.Dataset):\n",
    "    ds = ds.with_format(\"tf\")\n",
    "    def map_fn(x):\n",
    "        return {\"image\": convert_to_grayscale(x['image'])}\n",
    "    return ds.map(map_fn)\n"
   ]
  },
  {
   "cell_type": "code",
   "execution_count": 31,
   "metadata": {},
   "outputs": [
    {
     "name": "stdout",
     "output_type": "stream",
     "text": [
      "Time taken with Pillow: 0.004767084999912186 seconds\n"
     ]
    }
   ],
   "source": [
    "time_pillow = perf(lambda_conversion,ds)\n",
    "print(f\"Time taken with Pillow: {time_pillow} seconds\")"
   ]
  },
  {
   "cell_type": "code",
   "execution_count": 34,
   "metadata": {},
   "outputs": [
    {
     "name": "stderr",
     "output_type": "stream",
     "text": [
      "Map:  16%|█▋        | 985/6000 [00:21<00:12, 401.80 examples/s]/home/navid/.pyenv/versions/3.11.9/envs/tf/lib/python3.11/site-packages/datasets/features/image.py:339: UserWarning: Downcasting array dtype int64 to uint8 to be compatible with 'Pillow'\n",
      "  warnings.warn(f\"Downcasting array dtype {dtype} to {dest_dtype} to be compatible with 'Pillow'\")\n",
      "Map:  17%|█▋        | 999/6000 [00:49<25:59,  3.21 examples/s] "
     ]
    }
   ],
   "source": [
    "time_tf = perf(tf_conversion,ds)\n",
    "print(f\"Time taken with TensorFlow: {time_tf} seconds\")"
   ]
  },
  {
   "cell_type": "code",
   "execution_count": null,
   "metadata": {},
   "outputs": [],
   "source": []
  }
 ],
 "metadata": {
  "kernelspec": {
   "display_name": "tf",
   "language": "python",
   "name": "python3"
  },
  "language_info": {
   "codemirror_mode": {
    "name": "ipython",
    "version": 3
   },
   "file_extension": ".py",
   "mimetype": "text/x-python",
   "name": "python",
   "nbconvert_exporter": "python",
   "pygments_lexer": "ipython3",
   "version": "3.11.9"
  }
 },
 "nbformat": 4,
 "nbformat_minor": 2
}
