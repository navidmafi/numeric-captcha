{
 "cells": [
  {
   "cell_type": "code",
   "execution_count": null,
   "metadata": {},
   "outputs": [],
   "source": [
    "import silence_tensorflow.auto\n",
    "import tensorflow as tf\n",
    "gpuDevices = tf.config.list_physical_devices('GPU')\n",
    "print(\"Num GPUs Available: \", len(gpuDevices))\n",
    "tf.config.experimental.set_memory_growth(gpuDevices[0], True)\n",
    "tf.config.optimizer.set_experimental_options({'layout_optimizer': False})\n",
    "import keras\n",
    "import os, sys, random, glob, time, logging, io\n",
    "from PIL import Image\n",
    "\n",
    "import transformers\n",
    "from IPython import display\n",
    "import datasets\n",
    "import matplotlib.pyplot as plt\n",
    "import numpy as np"
   ]
  },
  {
   "cell_type": "code",
   "execution_count": null,
   "metadata": {},
   "outputs": [],
   "source": [
    "ts = lambda tensor : keras.preprocessing.image.array_to_img(tensor)\n",
    "\n",
    "def plot_n_samples(dataset):\n",
    "    plt.figure(figsize=(20, 4))\n",
    "    for i in range(len(dataset)):\n",
    "        # assert tf.is_tensor(dataset[i]), \"This ain't a tensor\"\n",
    "        ax = plt.subplot(2, len(dataset), i + 1)\n",
    "        plt.imshow(ts(dataset[i].numpy()))\n",
    "        plt.gray()\n",
    "        ax.get_xaxis().set_visible(False)\n",
    "        ax.get_yaxis().set_visible(False)\n",
    "    plt.show()"
   ]
  },
  {
   "cell_type": "code",
   "execution_count": null,
   "metadata": {},
   "outputs": [],
   "source": [
    "def convert_image_gray(dp) :\n",
    "    image = dp['image'].convert(\"L\")\n",
    "    buffer = io.BytesIO()\n",
    "    image.save(buffer, format=\"jpeg\", compress_level=\"1\")\n",
    "    return {\"image\": {\"bytes\" : buffer.getvalue()}}\n",
    "\n",
    "# to_grayscale_pillow_np = lambda x:{'gray_img' : np.expand_dims(np.asarray(x['image'].convert(\"L\"), dtype=np.uint8), axis=-1)}\n",
    "# map_one_hot= lambda x : {'solution_onehot' : {\n",
    "#         'digit1': int(x['solution'][0]),\n",
    "#         'digit2': int(x['solution'][1]),\n",
    "#         'digit3': int(x['solution'][2]),\n",
    "#         'digit4': int(x['solution'][3]),\n",
    "#         'digit5': int(x['solution'][4]),\n",
    "#         'digit6': int(x['solution'][5]),\n",
    "#     }}\n",
    "ds = datasets.load_dataset(\"project-sloth/captcha-images\")\n",
    "ds = ds.map(convert_image_gray, writer_batch_size=50)\n",
    "# ds = ds.remove_columns(\"image\")\n",
    "# ds = ds.map(lambda x:{'solution': [keras.utils.to_categorical(digit, num_classes=10) for digit in x['solution']]}, keep_in_memory=True)\n",
    "# ds = ds.map(map_one_hot)\n",
    "# ds = ds.remove_columns(\"solution\")\n",
    "ds = ds.with_format(\"tensorflow\")"
   ]
  },
  {
   "cell_type": "code",
   "execution_count": null,
   "metadata": {},
   "outputs": [],
   "source": [
    "print(ds['train'].)"
   ]
  },
  {
   "cell_type": "code",
   "execution_count": null,
   "metadata": {},
   "outputs": [],
   "source": [
    "ds4 = ds.map(lambda x: {'asdfjlhsadf' : tf.reshape(x['image'], [50, 200, 1])})"
   ]
  },
  {
   "cell_type": "code",
   "execution_count": null,
   "metadata": {},
   "outputs": [],
   "source": [
    "ds['train'].features"
   ]
  },
  {
   "cell_type": "code",
   "execution_count": null,
   "metadata": {},
   "outputs": [],
   "source": [
    "mtp = lambda mat: print('\\n'.join(['\\t'.join([str(cell) for cell in row]) for row in mat]))"
   ]
  },
  {
   "cell_type": "code",
   "execution_count": null,
   "metadata": {},
   "outputs": [],
   "source": [
    "print(np.transpose(ds['train'][0]['solution']))"
   ]
  },
  {
   "cell_type": "code",
   "execution_count": null,
   "metadata": {},
   "outputs": [],
   "source": [
    "dstf_train = ds['train'].to_tf_dataset(\n",
    "            columns=[\"gray_img\"],\n",
    "            label_cols=[\"solution\"],\n",
    "            batch_size=64\n",
    "            )"
   ]
  },
  {
   "cell_type": "code",
   "execution_count": null,
   "metadata": {},
   "outputs": [],
   "source": [
    "# print(ds['test'][0]['image'].device)\n",
    "# print(np.array(ds['test'][0]['gray_img']).shape)\n",
    "# print(np.array(ds['test'][0]['solution']).shape)\n",
    "# plot_n_samples(ds['train'][:4]['gray_img'])\n",
    "# plot_n_samples(ds['train'][:4]['image'])\n",
    "\n",
    "# data_in_memory = ds['train'][:]"
   ]
  },
  {
   "cell_type": "code",
   "execution_count": null,
   "metadata": {},
   "outputs": [],
   "source": [
    "def make_encoder() :\n",
    "    model = keras.Sequential()\n",
    "    input = keras.layers.Input(shape=(50,200,1))\n",
    "    model.add(input)\n",
    "    model.add(keras.layers.Conv2D(128,(3,3), activation='relu', padding='same'))\n",
    "    assert model.input_shape == (None, 50,200,1)\n",
    "    \n",
    "    model.add(keras.layers.MaxPool2D((2,2)))\n",
    "    model.add(keras.layers.Flatten())\n",
    "\n",
    "    # print(model.output_shape)\n",
    "\n",
    "    model.add(keras.layers.Dense(128,activation='relu'))\n",
    "    model.add(keras.layers.Dropout(0.5))\n",
    "    model.add(keras.layers.Dense(64, activation='relu'))\n",
    "\n",
    "    # print(model.output_shape)    \n",
    "\n",
    "    # outputs = []\n",
    "    # for i in range(6):\n",
    "    #     outputs.append(keras.layers.Dense(10, activation='softmax', name=f'digit{i+1}')(model.layers[-1].output))\n",
    "    model.add(keras.layers.Dense(60, activation='softmax'))\n",
    "    output = keras.layers.Reshape((6,10))(model.layers[-1].output)\n",
    "    \n",
    "    functional_model = keras.Model(inputs=input, outputs=output)\n",
    "    \n",
    "    # print (functional_model.output)\n",
    "    return functional_model\n",
    "    "
   ]
  },
  {
   "cell_type": "code",
   "execution_count": null,
   "metadata": {},
   "outputs": [],
   "source": [
    "model = make_encoder()"
   ]
  },
  {
   "cell_type": "code",
   "execution_count": null,
   "metadata": {},
   "outputs": [],
   "source": [
    "print(model.output_shape)"
   ]
  },
  {
   "cell_type": "code",
   "execution_count": 1,
   "metadata": {},
   "outputs": [
    {
     "ename": "NameError",
     "evalue": "name 'model' is not defined",
     "output_type": "error",
     "traceback": [
      "\u001b[0;31m---------------------------------------------------------------------------\u001b[0m",
      "\u001b[0;31mNameError\u001b[0m                                 Traceback (most recent call last)",
      "Cell \u001b[0;32mIn[1], line 1\u001b[0m\n\u001b[0;32m----> 1\u001b[0m \u001b[43mmodel\u001b[49m\u001b[38;5;241m.\u001b[39msummary()\n",
      "\u001b[0;31mNameError\u001b[0m: name 'model' is not defined"
     ]
    }
   ],
   "source": [
    "model.summary()"
   ]
  },
  {
   "cell_type": "code",
   "execution_count": null,
   "metadata": {},
   "outputs": [],
   "source": [
    "model.compile(optimizer='adam',\n",
    "              loss='categorical_crossentropy',\n",
    "              metrics=['accuracy'])"
   ]
  },
  {
   "cell_type": "code",
   "execution_count": null,
   "metadata": {},
   "outputs": [],
   "source": [
    "import tensorboard"
   ]
  },
  {
   "cell_type": "code",
   "execution_count": 2,
   "metadata": {},
   "outputs": [
    {
     "ename": "NameError",
     "evalue": "name 'model' is not defined",
     "output_type": "error",
     "traceback": [
      "\u001b[0;31m---------------------------------------------------------------------------\u001b[0m",
      "\u001b[0;31mNameError\u001b[0m                                 Traceback (most recent call last)",
      "Cell \u001b[0;32mIn[2], line 1\u001b[0m\n\u001b[0;32m----> 1\u001b[0m \u001b[43mmodel\u001b[49m\u001b[38;5;241m.\u001b[39mfit(dstf_train, epochs\u001b[38;5;241m=\u001b[39m\u001b[38;5;241m5\u001b[39m, batch_size\u001b[38;5;241m=\u001b[39m\u001b[38;5;241m10\u001b[39m)\n",
      "\u001b[0;31mNameError\u001b[0m: name 'model' is not defined"
     ]
    }
   ],
   "source": [
    "model.fit(dstf_train, epochs=5, batch_size=10)"
   ]
  }
 ],
 "metadata": {
  "kernelspec": {
   "display_name": "tf312",
   "language": "python",
   "name": "python3"
  },
  "language_info": {
   "codemirror_mode": {
    "name": "ipython",
    "version": 3
   },
   "file_extension": ".py",
   "mimetype": "text/x-python",
   "name": "python",
   "nbconvert_exporter": "python",
   "pygments_lexer": "ipython3",
   "version": "3.12.5"
  }
 },
 "nbformat": 4,
 "nbformat_minor": 2
}
