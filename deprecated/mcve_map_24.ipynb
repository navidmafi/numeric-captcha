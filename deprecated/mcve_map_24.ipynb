{
 "cells": [
  {
   "cell_type": "code",
   "execution_count": 2,
   "metadata": {},
   "outputs": [
    {
     "name": "stderr",
     "output_type": "stream",
     "text": [
      "/home/navid/.pyenv/versions/3.12.5/lib/python3.12/site-packages/tqdm/auto.py:21: TqdmWarning: IProgress not found. Please update jupyter and ipywidgets. See https://ipywidgets.readthedocs.io/en/stable/user_install.html\n",
      "  from .autonotebook import tqdm as notebook_tqdm\n"
     ]
    }
   ],
   "source": [
    "import silence_tensorflow.auto\n",
    "import tensorflow as tf\n",
    "import time\n",
    "import datasets"
   ]
  },
  {
   "cell_type": "code",
   "execution_count": 3,
   "metadata": {},
   "outputs": [],
   "source": [
    "def perf(method, *args, **kwargs):\n",
    "    start_time = time.perf_counter()\n",
    "    result = method(*args, **kwargs)\n",
    "    end_time = time.perf_counter()\n",
    "    return end_time - start_time"
   ]
  },
  {
   "cell_type": "code",
   "execution_count": 4,
   "metadata": {},
   "outputs": [],
   "source": [
    "ds = datasets.load_dataset(\"project-sloth/captcha-images\").with_format(\"tensorflow\")"
   ]
  },
  {
   "cell_type": "code",
   "execution_count": 16,
   "metadata": {},
   "outputs": [
    {
     "name": "stdout",
     "output_type": "stream",
     "text": [
      "access took 0.0028488230000220938\n"
     ]
    }
   ],
   "source": [
    "t1 = perf(lambda: ds['train'][0]['image'])\n",
    "print(f\"access took {t1}\")"
   ]
  },
  {
   "cell_type": "code",
   "execution_count": 9,
   "metadata": {},
   "outputs": [
    {
     "name": "stderr",
     "output_type": "stream",
     "text": [
      "Map: 100%|██████████| 6000/6000 [09:46<00:00, 10.23 examples/s]  \n",
      "Map: 100%|██████████| 2000/2000 [03:13<00:00, 10.33 examples/s] \n",
      "Map: 100%|██████████| 2000/2000 [03:16<00:00, 10.18 examples/s] \n"
     ]
    }
   ],
   "source": [
    "to_gray_tf = lambda dp: {'gray_image': tf.expand_dims(tf.image.rgb_to_grayscale(dp['image']), axis=-1)}\n",
    "ds2 = ds.map(to_gray_tf)"
   ]
  },
  {
   "cell_type": "code",
   "execution_count": 12,
   "metadata": {},
   "outputs": [
    {
     "name": "stdout",
     "output_type": "stream",
     "text": [
      "access took 1.99830430899965\n"
     ]
    }
   ],
   "source": [
    "t = perf(lambda: ds2['train'][0]['gray_image'])\n",
    "print(f\"access took {t}\")"
   ]
  }
 ],
 "metadata": {
  "kernelspec": {
   "display_name": "tf312",
   "language": "python",
   "name": "python3"
  },
  "language_info": {
   "codemirror_mode": {
    "name": "ipython",
    "version": 3
   },
   "file_extension": ".py",
   "mimetype": "text/x-python",
   "name": "python",
   "nbconvert_exporter": "python",
   "pygments_lexer": "ipython3",
   "version": "3.12.5"
  }
 },
 "nbformat": 4,
 "nbformat_minor": 2
}
