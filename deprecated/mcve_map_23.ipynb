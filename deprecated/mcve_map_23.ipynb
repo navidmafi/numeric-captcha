{
 "cells": [
  {
   "cell_type": "code",
   "execution_count": null,
   "metadata": {},
   "outputs": [],
   "source": [
    "import silence_tensorflow.auto\n",
    "import tensorflow as tf\n",
    "import time\n",
    "import datasets"
   ]
  },
  {
   "cell_type": "code",
   "execution_count": 7,
   "metadata": {},
   "outputs": [],
   "source": [
    "def perf(method, *args, **kwargs):\n",
    "    start_time = time.perf_counter()\n",
    "    result = method(*args, **kwargs)\n",
    "    end_time = time.perf_counter()\n",
    "    return end_time - start_time"
   ]
  },
  {
   "cell_type": "code",
   "execution_count": 11,
   "metadata": {},
   "outputs": [
    {
     "name": "stdout",
     "output_type": "stream",
     "text": [
      "access took 0.0005153869999503513\n"
     ]
    }
   ],
   "source": [
    "ds = datasets.load_dataset(\"project-sloth/captcha-images\")"
   ]
  },
  {
   "cell_type": "code",
   "execution_count": 12,
   "metadata": {},
   "outputs": [
    {
     "name": "stdout",
     "output_type": "stream",
     "text": [
      "access took 0.0010611309999148943\n"
     ]
    }
   ],
   "source": [
    "t1 = perf(lambda: ds['train'][0]['image'])\n",
    "print(f\"access took {t1}\")"
   ]
  },
  {
   "cell_type": "code",
   "execution_count": 21,
   "metadata": {},
   "outputs": [],
   "source": [
    "ds2 = ds.with_format(\"tf\")"
   ]
  },
  {
   "cell_type": "code",
   "execution_count": 22,
   "metadata": {},
   "outputs": [
    {
     "name": "stdout",
     "output_type": "stream",
     "text": [
      "access took 0.0018425139999180828\n"
     ]
    }
   ],
   "source": [
    "t2 = perf(lambda: ds2['train'][0]['image'])\n",
    "print(f\"access took {t2}\")"
   ]
  },
  {
   "cell_type": "code",
   "execution_count": 34,
   "metadata": {},
   "outputs": [],
   "source": [
    "import numpy as np\n",
    "to_grayscale_pillow_np = lambda x:{'gray_img' : np.expand_dims(np.asarray(x['image'].convert(\"L\"), dtype=np.uint8), axis=-1)}\n",
    "ds3=ds.map(to_grayscale_pillow_np)"
   ]
  },
  {
   "cell_type": "code",
   "execution_count": 36,
   "metadata": {},
   "outputs": [
    {
     "name": "stdout",
     "output_type": "stream",
     "text": [
      "access took 0.05845206699996197\n"
     ]
    }
   ],
   "source": [
    "t3 = perf(lambda: ds3['train'][0]['gray_img'])\n",
    "print(f\"access took {t3}\")"
   ]
  },
  {
   "cell_type": "code",
   "execution_count": 35,
   "metadata": {},
   "outputs": [],
   "source": [
    "ds4 = ds3.with_format(\"tensorflow\")"
   ]
  },
  {
   "cell_type": "code",
   "execution_count": 38,
   "metadata": {},
   "outputs": [
    {
     "name": "stdout",
     "output_type": "stream",
     "text": [
      "access took 1.092735846999858\n"
     ]
    }
   ],
   "source": [
    "t4 = perf(lambda: ds4['train'][0]['gray_img'])\n",
    "print(f\"access took {t4}\")"
   ]
  },
  {
   "cell_type": "code",
   "execution_count": 40,
   "metadata": {},
   "outputs": [
    {
     "name": "stdout",
     "output_type": "stream",
     "text": [
      "access took 1.1010549119998814\n"
     ]
    }
   ],
   "source": [
    "t5 = perf(lambda: ds4['train'][0]['image'])\n",
    "print(f\"access took {t5}\")"
   ]
  }
 ],
 "metadata": {
  "kernelspec": {
   "display_name": "tf312",
   "language": "python",
   "name": "python3"
  },
  "language_info": {
   "codemirror_mode": {
    "name": "ipython",
    "version": 3
   },
   "file_extension": ".py",
   "mimetype": "text/x-python",
   "name": "python",
   "nbconvert_exporter": "python",
   "pygments_lexer": "ipython3",
   "version": "3.12.5"
  }
 },
 "nbformat": 4,
 "nbformat_minor": 2
}
