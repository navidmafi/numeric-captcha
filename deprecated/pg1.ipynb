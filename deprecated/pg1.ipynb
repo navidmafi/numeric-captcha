{
 "cells": [
  {
   "cell_type": "code",
   "execution_count": 1,
   "metadata": {},
   "outputs": [
    {
     "name": "stderr",
     "output_type": "stream",
     "text": [
      "WARNING: All log messages before absl::InitializeLog() is called are written to STDERR\n",
      "I0000 00:00:1724858342.584416   72210 cuda_executor.cc:1015] successful NUMA node read from SysFS had negative value (-1), but there must be at least one NUMA node, so returning NUMA node zero. See more at https://github.com/torvalds/linux/blob/v6.0/Documentation/ABI/testing/sysfs-bus-pci#L344-L355\n",
      "I0000 00:00:1724858342.633402   72210 cuda_executor.cc:1015] successful NUMA node read from SysFS had negative value (-1), but there must be at least one NUMA node, so returning NUMA node zero. See more at https://github.com/torvalds/linux/blob/v6.0/Documentation/ABI/testing/sysfs-bus-pci#L344-L355\n",
      "I0000 00:00:1724858342.636976   72210 cuda_executor.cc:1015] successful NUMA node read from SysFS had negative value (-1), but there must be at least one NUMA node, so returning NUMA node zero. See more at https://github.com/torvalds/linux/blob/v6.0/Documentation/ABI/testing/sysfs-bus-pci#L344-L355\n"
     ]
    },
    {
     "name": "stdout",
     "output_type": "stream",
     "text": [
      "Num GPUs Available:  1\n"
     ]
    },
    {
     "name": "stderr",
     "output_type": "stream",
     "text": [
      "/home/navid/.pyenv/versions/3.11.9/envs/tf/lib/python3.11/site-packages/tqdm/auto.py:21: TqdmWarning: IProgress not found. Please update jupyter and ipywidgets. See https://ipywidgets.readthedocs.io/en/stable/user_install.html\n",
      "  from .autonotebook import tqdm as notebook_tqdm\n",
      "INFO:datasets:TensorFlow version 2.17.0 available.\n"
     ]
    }
   ],
   "source": [
    "import silence_tensorflow.auto\n",
    "import tensorflow as tf\n",
    "gpuDevices = tf.config.list_physical_devices('GPU')\n",
    "print(\"Num GPUs Available: \", len(gpuDevices))\n",
    "tf.config.experimental.set_memory_growth(gpuDevices[0], True)\n",
    "tf.config.optimizer.set_experimental_options({'layout_optimizer': False})\n",
    "\n",
    "import keras\n",
    "import random\n",
    "import PIL.Image\n",
    "import os\n",
    "import glob\n",
    "import torchshow\n",
    "import transformers\n",
    "import random\n",
    "from  IPython import display\n",
    "import time\n",
    "import datasets\n",
    "datasets.disable_caching()\n",
    "import matplotlib.pyplot as plt\n",
    "import numpy as np\n"
   ]
  },
  {
   "cell_type": "code",
   "execution_count": 2,
   "metadata": {},
   "outputs": [],
   "source": [
    "train_ds = datasets.load_dataset(\"project-sloth/captcha-images\", split='train')"
   ]
  },
  {
   "cell_type": "code",
   "execution_count": 21,
   "metadata": {},
   "outputs": [],
   "source": [
    "def detect_dtfn(x):\n",
    "    if(np.expand_dims(np.asarray(x['image'].convert(\"L\")), axis=2).dtype != np.uint8):\n",
    "        print(\"BABO BABOOOO\")\n",
    "\n",
    "    x['image'] = np.asarray(x['image'].convert(\"L\"))\n",
    "    return x"
   ]
  },
  {
   "cell_type": "code",
   "execution_count": 22,
   "metadata": {},
   "outputs": [
    {
     "name": "stderr",
     "output_type": "stream",
     "text": [
      "Map:  13%|█▎        | 761/6000 [00:00<00:01, 3025.46 examples/s]/home/navid/.pyenv/versions/3.11.9/envs/tf/lib/python3.11/site-packages/datasets/features/image.py:348: UserWarning: Downcasting array dtype int64 to int32 to be compatible with 'Pillow'\n",
      "  warnings.warn(f\"Downcasting array dtype {dtype} to {dest_dtype} to be compatible with 'Pillow'\")\n",
      "Map: 100%|██████████| 6000/6000 [01:02<00:00, 95.90 examples/s] \n"
     ]
    },
    {
     "data": {
      "text/plain": [
       "Dataset({\n",
       "    features: ['image', 'solution'],\n",
       "    num_rows: 6000\n",
       "})"
      ]
     },
     "execution_count": 22,
     "metadata": {},
     "output_type": "execute_result"
    }
   ],
   "source": [
    "train_ds.map(detect_dtfn)"
   ]
  },
  {
   "cell_type": "code",
   "execution_count": 23,
   "metadata": {},
   "outputs": [
    {
     "name": "stdout",
     "output_type": "stream",
     "text": [
      "uint8\n",
      "(50, 200, 3)\n"
     ]
    }
   ],
   "source": [
    "print(np.asarray(train_ds['image'][0]).dtype)\n",
    "print(np.asarray(train_ds['image'][0]).shape)"
   ]
  },
  {
   "cell_type": "code",
   "execution_count": 4,
   "metadata": {},
   "outputs": [
    {
     "name": "stdout",
     "output_type": "stream",
     "text": [
      "uint8\n",
      "(50, 200)\n"
     ]
    }
   ],
   "source": [
    "print(np.asarray(train_ds['image'][0].convert(\"L\")).dtype)\n",
    "print(np.asarray(train_ds['image'][0].convert(\"L\")).shape)"
   ]
  },
  {
   "cell_type": "code",
   "execution_count": 5,
   "metadata": {},
   "outputs": [
    {
     "name": "stdout",
     "output_type": "stream",
     "text": [
      "uint8\n",
      "(50, 200, 1)\n"
     ]
    }
   ],
   "source": [
    "img = np.asarray(np.expand_dims(train_ds['image'][0].convert(\"L\"), axis=2))\n",
    "print(img.dtype)\n",
    "print(img.shape)"
   ]
  }
 ],
 "metadata": {
  "kernelspec": {
   "display_name": "tf",
   "language": "python",
   "name": "python3"
  },
  "language_info": {
   "codemirror_mode": {
    "name": "ipython",
    "version": 3
   },
   "file_extension": ".py",
   "mimetype": "text/x-python",
   "name": "python",
   "nbconvert_exporter": "python",
   "pygments_lexer": "ipython3",
   "version": "3.11.9"
  }
 },
 "nbformat": 4,
 "nbformat_minor": 2
}
