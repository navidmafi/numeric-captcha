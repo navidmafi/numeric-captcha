{
 "cells": [
  {
   "cell_type": "code",
   "execution_count": null,
   "metadata": {},
   "outputs": [],
   "source": [
    "import silence_tensorflow.auto\n",
    "import tensorflow as tf\n",
    "gpuDevices = tf.config.list_physical_devices('GPU')\n",
    "print(\"Num GPUs Available: \", len(gpuDevices))\n",
    "tf.config.experimental.set_memory_growth(gpuDevices[0], True)\n",
    "tf.config.optimizer.set_experimental_options({'layout_optimizer': False})\n",
    "import keras\n",
    "import os, sys, random, glob, time, logging\n",
    "from PIL import Image\n",
    "\n",
    "import transformers\n",
    "from IPython import display\n",
    "import datasets\n",
    "datasets.disable_caching()\n",
    "import matplotlib.pyplot as plt\n",
    "import numpy as np\n"
   ]
  },
  {
   "cell_type": "code",
   "execution_count": null,
   "metadata": {},
   "outputs": [],
   "source": [
    "ts = lambda tensor : keras.preprocessing.image.array_to_img(tensor)\n",
    "\n",
    "def plot_n_samples(dataset, n ):\n",
    "    plt.figure(figsize=(20, 4))\n",
    "    for i in range(n):\n",
    "        assert tf.is_tensor(dataset[i]), \"This ain't a tensor\"\n",
    "        ax = plt.subplot(2, n, i + 1)\n",
    "        plt.imshow(ts(dataset[i].numpy()))\n",
    "        plt.gray()\n",
    "        ax.get_xaxis().set_visible(False)\n",
    "        ax.get_yaxis().set_visible(False)\n",
    "    plt.show()"
   ]
  },
  {
   "cell_type": "code",
   "execution_count": null,
   "metadata": {},
   "outputs": [],
   "source": [
    "# def to_gray(dp):\n",
    "#     return {'image': \n",
    "#         # tf.expand_dims(\n",
    "#             # tf.image.rgb_to_grayscale(dp['image'])\n",
    "#             # , axis=-1) \n",
    "#             }\n",
    "    \n",
    "to_grayscale_pillow = lambda x : {'image' :x['image'].convert(\"L\")}\n",
    "# to_grayscale_pillow = lambda x:{'image' : tf.expand_dims(tf.image.rgb_to_grayscale(tf.cast(x['image'], dtype=tf.uint8)), axis=2)}"
   ]
  },
  {
   "cell_type": "code",
   "execution_count": null,
   "metadata": {},
   "outputs": [],
   "source": [
    "train_ds = datasets.load_dataset(\"project-sloth/captcha-images\", split='train')\n",
    "# test_ds = datasets.load_dataset(\"project-sloth/captcha-images\", split='test')\n",
    "# validation_ds=datasets.load_dataset(\"project-sloth/captcha-images\", split='validation')"
   ]
  },
  {
   "cell_type": "code",
   "execution_count": null,
   "metadata": {},
   "outputs": [],
   "source": [
    "train_dsp = train_ds.map(to_grayscale_pillow).with_format(\"tf\")"
   ]
  },
  {
   "cell_type": "code",
   "execution_count": null,
   "metadata": {},
   "outputs": [],
   "source": [
    "plot_n_samples(train_dsp['image'], 4)\n",
    "# print(train_dsp[0]['image'].shape)"
   ]
  },
  {
   "cell_type": "code",
   "execution_count": null,
   "metadata": {},
   "outputs": [],
   "source": [
    "# HYPs\n",
    "\n",
    "\n",
    "batch_size = 32;\n",
    "lr = 0.0001;\n",
    "epochs = 10;"
   ]
  },
  {
   "cell_type": "code",
   "execution_count": null,
   "metadata": {},
   "outputs": [],
   "source": [
    "def make_encoder() :\n",
    "    model = keras.Sequential()\n",
    "    model.add(keras.layers.Input(shape=(50,200,1)))\n",
    "    \n",
    "    model.add(keras.layers.Conv2D(32,(3,3), activation='relu', padding='same'))\n",
    "    model.add(keras.layers.MaxPool2D((2,2)))\n",
    "\n",
    "    assert model.output_shape == (None, 25,100,32)\n",
    "\n",
    "    model.add(keras.layers.Conv2D(64,(3,3), activation='relu', padding='same'))\n",
    "    model.add(keras.layers.MaxPool2D((2,2)))\n",
    "\n",
    "    \n",
    "    model.add(keras.layers.Conv2D(128,(3,3), activation='relu', padding='same'))\n",
    "    model.add(keras.layers.MaxPool2D((2,2)))\n",
    "    model.add(keras.layers.Flatten())\n",
    "\n",
    "    print(model.output_shape)\n",
    "\n",
    "    model.add(keras.layers.Dense(128,activation='relu'))\n",
    "    model.add(keras.layers.Dropout(0.5))\n",
    "    model.add(keras.layers.Dense(64, activation='relu'))\n",
    "\n",
    "    print(model.output_shape)    \n",
    "\n",
    "    for i in range(5):\n",
    "        model.add(keras.layers.Dense(10,activation='softmax', name=f'digit{i+1}'))\n",
    "    \n",
    "\n",
    "    return model\n",
    "    "
   ]
  },
  {
   "cell_type": "code",
   "execution_count": null,
   "metadata": {},
   "outputs": [],
   "source": [
    "model = make_encoder()"
   ]
  },
  {
   "cell_type": "code",
   "execution_count": null,
   "metadata": {},
   "outputs": [],
   "source": [
    "model.summary()"
   ]
  },
  {
   "cell_type": "code",
   "execution_count": null,
   "metadata": {},
   "outputs": [],
   "source": [
    "_ = model(train_ds['image'][0])"
   ]
  },
  {
   "cell_type": "code",
   "execution_count": null,
   "metadata": {},
   "outputs": [],
   "source": [
    "outputs = [model.get_layer(f'digit{i+1}').output for i in range(5)]\n",
    "model = tf.keras.Model(inputs=model.input, outputs=outputs)"
   ]
  }
 ],
 "metadata": {
  "kernelspec": {
   "display_name": "tf",
   "language": "python",
   "name": "python3"
  },
  "language_info": {
   "codemirror_mode": {
    "name": "ipython",
    "version": 3
   },
   "file_extension": ".py",
   "mimetype": "text/x-python",
   "name": "python",
   "nbconvert_exporter": "python",
   "pygments_lexer": "ipython3",
   "version": "3.12.5"
  }
 },
 "nbformat": 4,
 "nbformat_minor": 2
}
